{
 "cells": [
  {
   "cell_type": "code",
   "execution_count": 5,
   "id": "98925a98",
   "metadata": {},
   "outputs": [],
   "source": [
    "import os\n",
    "import pandas as pd\n",
    "import torch\n",
    "import torch.optim as optim\n",
    "import torch.nn as nn\n",
    "import json\n",
    "\n",
    "from transformers import AutoModel, AutoTokenizer\n",
    "\n",
    "from bert_clf.src.BertCLF import BertCLF\n",
    "from bert_clf.src.training_utils import train_evaluate, predict_metrics\n",
    "from bert_clf.src.preparing_data_utils import prepare_data, prepare_data_notebook, prepare_dataset"
   ]
  },
  {
   "cell_type": "code",
   "execution_count": null,
   "id": "05332156",
   "metadata": {},
   "outputs": [],
   "source": [
    "config = dict(\n",
    "    transformer_model = dict(\n",
    "        model = \"cointegrated/rubert-tiny\",\n",
    "        path_to_state_dict = False,\n",
    "        device = 'cuda',\n",
    "        dropout = 0.2,\n",
    "        tiny_bert = True, \n",
    "        learning_rate = 1e-6,\n",
    "        batch_size = 256,\n",
    "        shuffle = True,\n",
    "        maxlen = 512,\n",
    "    ),\n",
    "    data = dict(\n",
    "        train_data_path = None,\n",
    "        test_data_path = None,\n",
    "        text_column = \"text\",\n",
    "        target_column = \"target\",\n",
    "        random_state = 42,\n",
    "        test_size = 0.3,\n",
    "    ),\n",
    "    training = dict (\n",
    "    save_state_dict = False, # if False the model will be saved using torch.save(<model_class>)\n",
    "        # and should be loaded like this: model = torch.load()\n",
    "        # you will have to install the library to do so\n",
    "    delta = 0.001,\n",
    "    patience = 7,\n",
    "    num_epochs = 50,\n",
    "    average_f1 = 'macro',\n",
    "    output_dir = \"../results/\"\n",
    "    )\n",
    ")"
   ]
  },
  {
   "cell_type": "code",
   "execution_count": null,
   "id": "8bd16ff5",
   "metadata": {},
   "outputs": [],
   "source": [
    "os.makedirs(config['training']['output_dir'], exist_ok=True)"
   ]
  },
  {
   "cell_type": "code",
   "execution_count": null,
   "id": "da0e002d",
   "metadata": {},
   "outputs": [],
   "source": [
    "device = torch.device(config['transformer_model']['device'])\n",
    "tokenizer = AutoTokenizer.from_pretrained(\n",
    "        pretrained_model_name_or_path=config['transformer_model'][\"model\"]\n",
    "    )\n",
    "model_bert = AutoModel.from_pretrained(\n",
    "    pretrained_model_name_or_path=config['transformer_model'][\"model\"]\n",
    ").to(device)"
   ]
  },
  {
   "cell_type": "markdown",
   "id": "1597a5d6",
   "metadata": {},
   "source": [
    "Here you can either use `prepare_data` function if you want just pass the\n",
    "path to your data or you can pass the data itself in the form of pandas dataframe. In the latter case\n",
    "you should use `prepare_data_notebook` function"
   ]
  },
  {
   "cell_type": "code",
   "execution_count": null,
   "id": "b70565cf",
   "metadata": {},
   "outputs": [],
   "source": [
    "id2label, train_texts, valid_texts, train_targets, valid_targets = prepare_data_notebook(\n",
    "    config=config,\n",
    "    train_df=df_all\n",
    ")"
   ]
  },
  {
   "cell_type": "code",
   "execution_count": null,
   "id": "c7181003",
   "metadata": {},
   "outputs": [],
   "source": [
    "model = BertCLF(\n",
    "    pretrained_model=model_bert,\n",
    "    tokenizer=tokenizer,\n",
    "    id2label=id2label,\n",
    "    dropout=config['transformer_model']['dropout'],\n",
    "    tiny=config['transformer_model']['tiny_bert'],\n",
    "    device=device     \n",
    "    )"
   ]
  },
  {
   "cell_type": "code",
   "execution_count": null,
   "id": "c75a0b05",
   "metadata": {},
   "outputs": [],
   "source": [
    "model = model.to(device)"
   ]
  },
  {
   "cell_type": "code",
   "execution_count": null,
   "id": "a62104f9",
   "metadata": {
    "scrolled": true
   },
   "outputs": [],
   "source": [
    "optimizer = optim.Adam(model.parameters(), lr=float(config['transformer_model']['learning_rate']))\n",
    "criterion = nn.NLLLoss()\n",
    "\n",
    "training_generator, valid_generator = prepare_dataset(\n",
    "    tokenizer=tokenizer,\n",
    "    train_texts=train_texts,\n",
    "    train_targets=train_targets,\n",
    "    valid_texts=valid_texts,\n",
    "    valid_targets=valid_targets,\n",
    "    config=config\n",
    ")"
   ]
  },
  {
   "cell_type": "code",
   "execution_count": null,
   "id": "869097f1",
   "metadata": {
    "scrolled": true
   },
   "outputs": [],
   "source": [
    "model = train_evaluate(\n",
    "    model=model,\n",
    "    training_generator=training_generator,\n",
    "    valid_generator=valid_generator,\n",
    "    criterion=criterion,\n",
    "    optimizer=optimizer,\n",
    "    num_epochs=config['training']['num_epochs'],\n",
    "    average=config['training']['average_f1'],\n",
    "    config=config\n",
    ")"
   ]
  },
  {
   "cell_type": "code",
   "execution_count": 60,
   "id": "fa546d8e",
   "metadata": {},
   "outputs": [],
   "source": [
    "torch.save(\n",
    "    model.state_dict(), \n",
    "    os.path.join(config['training']['output_dir'], \"model.pth\")\n",
    ")\n",
    "\n",
    "with open(os.path.join(config['training']['output_dir'], 'label_mapper.json'), mode='w', encoding='utf-8') as f:\n",
    "        json.dump(model.mapper, f, indent=4, ensure_ascii=False)"
   ]
  },
  {
   "cell_type": "code",
   "execution_count": null,
   "id": "50f0c2a9",
   "metadata": {},
   "outputs": [],
   "source": []
  },
  {
   "cell_type": "code",
   "execution_count": null,
   "id": "55cd18e0",
   "metadata": {},
   "outputs": [],
   "source": []
  }
 ],
 "metadata": {
  "kernelspec": {
   "display_name": "Python 3 (ipykernel)",
   "language": "python",
   "name": "python3"
  },
  "language_info": {
   "codemirror_mode": {
    "name": "ipython",
    "version": 3
   },
   "file_extension": ".py",
   "mimetype": "text/x-python",
   "name": "python",
   "nbconvert_exporter": "python",
   "pygments_lexer": "ipython3",
   "version": "3.7.12"
  }
 },
 "nbformat": 4,
 "nbformat_minor": 5
}