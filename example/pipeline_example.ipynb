{
 "cells": [
  {
   "cell_type": "code",
   "execution_count": 1,
   "id": "9f4274fa",
   "metadata": {},
   "outputs": [],
   "source": [
    "import sys"
   ]
  },
  {
   "cell_type": "code",
   "execution_count": 2,
   "id": "8bb4d76d",
   "metadata": {},
   "outputs": [],
   "source": [
    "sys.path.append('..')"
   ]
  },
  {
   "cell_type": "code",
   "execution_count": 3,
   "id": "f5e0e301",
   "metadata": {},
   "outputs": [],
   "source": [
    "import os\n",
    "from src.training_utils import train_evaluate, predict_metrics\n",
    "from src.BertCLF import BertCLF\n",
    "from transformers import AutoModel\n",
    "from transformers import AutoTokenizer\n",
    "import torch\n",
    "import torch.optim as optim\n",
    "import torch.nn as nn\n",
    "import json\n",
    "from src.preparing_data_utils import prepare_data, prepare_data_notebook, prepare_dataset\n",
    "import pandas as pd"
   ]
  },
  {
   "cell_type": "code",
   "execution_count": 17,
   "id": "bad8ad14",
   "metadata": {},
   "outputs": [],
   "source": [
    "config = dict(\n",
    "    transformer_model = dict(\n",
    "        model = \"cointegrated/rubert-tiny\",\n",
    "        path_to_state_dict = False,\n",
    "        device = 'cuda',\n",
    "        dropout = 0.2,\n",
    "        tiny_bert = True, \n",
    "        learning_rate = 1e-6,\n",
    "        batch_size = 8,\n",
    "        shuffle = True,\n",
    "        maxlen = 512,\n",
    "    ),\n",
    "    data = dict(\n",
    "        train_data_path = \"../../gvk_dnie_one_list.xlsx\",\n",
    "        test_data_path = None,\n",
    "        text_column = \"Комментарий\",\n",
    "        target_column = \"target\",\n",
    "        random_state = 42,\n",
    "        test_size = 0.3,\n",
    "    ),\n",
    "    training = dict (\n",
    "    num_epochs = 20,\n",
    "    average_f1 = 'macro',\n",
    "    output_dir = \"../results/\"\n",
    "    )\n",
    ")"
   ]
  },
  {
   "cell_type": "code",
   "execution_count": 19,
   "id": "8b4623bc",
   "metadata": {},
   "outputs": [],
   "source": [
    "os.makedirs(config['training']['output_dir'], exist_ok=True)"
   ]
  },
  {
   "cell_type": "code",
   "execution_count": 6,
   "id": "64334061",
   "metadata": {},
   "outputs": [],
   "source": [
    "device = torch.device(config['transformer_model']['device'])\n",
    "tokenizer = AutoTokenizer.from_pretrained(\n",
    "        pretrained_model_name_or_path=config['transformer_model'][\"model\"]\n",
    "    )\n",
    "model_bert = AutoModel.from_pretrained(\n",
    "    pretrained_model_name_or_path=config['transformer_model'][\"model\"]\n",
    ").to(device)"
   ]
  },
  {
   "cell_type": "markdown",
   "id": "adcaf4c2",
   "metadata": {},
   "source": [
    "Here you can either use `prepare_data` function if you want just pass the\n",
    "path to your data or you can pass the data itself in the form of pandas dataframe. In the latter case\n",
    "you should use `prepare_data_notebook` function"
   ]
  },
  {
   "cell_type": "code",
   "execution_count": 7,
   "id": "f7d1ba9f",
   "metadata": {},
   "outputs": [],
   "source": [
    "id2label, train_texts, valid_texts, train_targets, valid_targets = prepare_data(config=config)"
   ]
  },
  {
   "cell_type": "code",
   "execution_count": 8,
   "id": "4c8524e6",
   "metadata": {},
   "outputs": [
    {
     "name": "stderr",
     "output_type": "stream",
     "text": [
      "/home/user/conda/lib/python3.7/site-packages/pandas/util/_decorators.py:311: SettingWithCopyWarning: \n",
      "A value is trying to be set on a copy of a slice from a DataFrame\n",
      "\n",
      "See the caveats in the documentation: https://pandas.pydata.org/pandas-docs/stable/user_guide/indexing.html#returning-a-view-versus-a-copy\n",
      "  return func(*args, **kwargs)\n"
     ]
    }
   ],
   "source": [
    "df = pd.read_excel(\"../../gvk_dnie_one_list.xlsx\")\n",
    "\n",
    "id2label, train_texts, valid_texts, train_targets, valid_targets = prepare_data_notebook(\n",
    "    config=config,\n",
    "    train_df=df\n",
    ")"
   ]
  },
  {
   "cell_type": "code",
   "execution_count": 9,
   "id": "67337d5b",
   "metadata": {},
   "outputs": [],
   "source": [
    "model = BertCLF(\n",
    "    pretrained_model=model_bert,\n",
    "    tokenizer=tokenizer,\n",
    "    id2label=id2label,\n",
    "    dropout=config['transformer_model']['dropout'],\n",
    "    tiny=config['transformer_model']['tiny_bert'],\n",
    "    device=device     \n",
    "    )"
   ]
  },
  {
   "cell_type": "code",
   "execution_count": 10,
   "id": "31a9fb22",
   "metadata": {},
   "outputs": [],
   "source": [
    "model = model.to(device)"
   ]
  },
  {
   "cell_type": "code",
   "execution_count": 11,
   "id": "1cd4390c",
   "metadata": {
    "scrolled": true
   },
   "outputs": [],
   "source": [
    "optimizer = optim.Adam(model.parameters(), lr=float(config['transformer_model']['learning_rate']))\n",
    "criterion = nn.NLLLoss()\n",
    "\n",
    "training_generator, valid_generator = prepare_dataset(\n",
    "    tokenizer=tokenizer,\n",
    "    train_texts=train_texts,\n",
    "    train_targets=train_targets,\n",
    "    valid_texts=valid_texts,\n",
    "    valid_targets=valid_targets,\n",
    "    config=config\n",
    ")"
   ]
  },
  {
   "cell_type": "code",
   "execution_count": 13,
   "id": "275553cb",
   "metadata": {
    "scrolled": true
   },
   "outputs": [
    {
     "name": "stdout",
     "output_type": "stream",
     "text": [
      "==== Epoch 1 out of 20 ====\n"
     ]
    },
    {
     "name": "stderr",
     "output_type": "stream",
     "text": [
      "Training loop: 100%|██████████| 132/132 [00:03<00:00, 34.50it/s]\n",
      "Evaluating loop: 100%|██████████| 57/57 [00:00<00:00, 286.20it/s]\n"
     ]
    },
    {
     "name": "stdout",
     "output_type": "stream",
     "text": [
      "Train F1: 0.06051076238576238\n",
      "Eval F1: 0.07499860763018658\n",
      "\n",
      "==== Epoch 2 out of 20 ====\n"
     ]
    },
    {
     "name": "stderr",
     "output_type": "stream",
     "text": [
      "Training loop: 100%|██████████| 132/132 [00:03<00:00, 34.83it/s]\n",
      "Evaluating loop: 100%|██████████| 57/57 [00:00<00:00, 259.53it/s]\n"
     ]
    },
    {
     "name": "stdout",
     "output_type": "stream",
     "text": [
      "Train F1: 0.1008680054513388\n",
      "Eval F1: 0.12719808781212288\n",
      "\n",
      "==== Epoch 3 out of 20 ====\n"
     ]
    },
    {
     "name": "stderr",
     "output_type": "stream",
     "text": [
      "Training loop: 100%|██████████| 132/132 [00:03<00:00, 34.96it/s]\n",
      "Evaluating loop: 100%|██████████| 57/57 [00:00<00:00, 289.61it/s]\n"
     ]
    },
    {
     "name": "stdout",
     "output_type": "stream",
     "text": [
      "Train F1: 0.1406148607284971\n",
      "Eval F1: 0.21539699115513652\n",
      "\n",
      "==== Epoch 4 out of 20 ====\n"
     ]
    },
    {
     "name": "stderr",
     "output_type": "stream",
     "text": [
      "Training loop: 100%|██████████| 132/132 [00:03<00:00, 34.60it/s]\n",
      "Evaluating loop: 100%|██████████| 57/57 [00:00<00:00, 279.32it/s]\n"
     ]
    },
    {
     "name": "stdout",
     "output_type": "stream",
     "text": [
      "Train F1: 0.19148884875345915\n",
      "Eval F1: 0.30956836535783905\n",
      "\n",
      "==== Epoch 5 out of 20 ====\n"
     ]
    },
    {
     "name": "stderr",
     "output_type": "stream",
     "text": [
      "Training loop: 100%|██████████| 132/132 [00:03<00:00, 35.03it/s]\n",
      "Evaluating loop: 100%|██████████| 57/57 [00:00<00:00, 288.45it/s]\n"
     ]
    },
    {
     "name": "stdout",
     "output_type": "stream",
     "text": [
      "Train F1: 0.25343331271902697\n",
      "Eval F1: 0.3424190104891859\n",
      "\n",
      "==== Epoch 6 out of 20 ====\n"
     ]
    },
    {
     "name": "stderr",
     "output_type": "stream",
     "text": [
      "Training loop: 100%|██████████| 132/132 [00:03<00:00, 34.97it/s]\n",
      "Evaluating loop: 100%|██████████| 57/57 [00:00<00:00, 289.86it/s]\n"
     ]
    },
    {
     "name": "stdout",
     "output_type": "stream",
     "text": [
      "Train F1: 0.2739632604648839\n",
      "Eval F1: 0.3136508780368429\n",
      "\n",
      "==== Epoch 7 out of 20 ====\n"
     ]
    },
    {
     "name": "stderr",
     "output_type": "stream",
     "text": [
      "Training loop: 100%|██████████| 132/132 [00:03<00:00, 34.97it/s]\n",
      "Evaluating loop: 100%|██████████| 57/57 [00:00<00:00, 289.01it/s]\n"
     ]
    },
    {
     "name": "stdout",
     "output_type": "stream",
     "text": [
      "Train F1: 0.30947806892882657\n",
      "Eval F1: 0.3212433862433863\n",
      "\n",
      "==== Epoch 8 out of 20 ====\n"
     ]
    },
    {
     "name": "stderr",
     "output_type": "stream",
     "text": [
      "Training loop: 100%|██████████| 132/132 [00:03<00:00, 35.01it/s]\n",
      "Evaluating loop: 100%|██████████| 57/57 [00:00<00:00, 289.53it/s]\n"
     ]
    },
    {
     "name": "stdout",
     "output_type": "stream",
     "text": [
      "Train F1: 0.305180595218474\n",
      "Eval F1: 0.34720709602288546\n",
      "\n",
      "==== Epoch 9 out of 20 ====\n"
     ]
    },
    {
     "name": "stderr",
     "output_type": "stream",
     "text": [
      "Training loop: 100%|██████████| 132/132 [00:03<00:00, 33.77it/s]\n",
      "Evaluating loop: 100%|██████████| 57/57 [00:00<00:00, 107.68it/s]\n"
     ]
    },
    {
     "name": "stdout",
     "output_type": "stream",
     "text": [
      "Train F1: 0.30203076945501195\n",
      "Eval F1: 0.3508163928339367\n",
      "\n",
      "==== Epoch 10 out of 20 ====\n"
     ]
    },
    {
     "name": "stderr",
     "output_type": "stream",
     "text": [
      "Training loop: 100%|██████████| 132/132 [00:09<00:00, 13.69it/s]\n",
      "Evaluating loop: 100%|██████████| 57/57 [00:00<00:00, 91.31it/s]\n"
     ]
    },
    {
     "name": "stdout",
     "output_type": "stream",
     "text": [
      "Train F1: 0.3215376437535528\n",
      "Eval F1: 0.3395225648295824\n",
      "\n",
      "==== Epoch 11 out of 20 ====\n"
     ]
    },
    {
     "name": "stderr",
     "output_type": "stream",
     "text": [
      "Training loop: 100%|██████████| 132/132 [00:09<00:00, 13.65it/s]\n",
      "Evaluating loop: 100%|██████████| 57/57 [00:00<00:00, 94.08it/s] \n"
     ]
    },
    {
     "name": "stdout",
     "output_type": "stream",
     "text": [
      "Train F1: 0.33528779862113195\n",
      "Eval F1: 0.32657455929385754\n",
      "\n",
      "==== Epoch 12 out of 20 ====\n"
     ]
    },
    {
     "name": "stderr",
     "output_type": "stream",
     "text": [
      "Training loop: 100%|██████████| 132/132 [00:09<00:00, 13.66it/s]\n",
      "Evaluating loop: 100%|██████████| 57/57 [00:00<00:00, 94.60it/s] \n"
     ]
    },
    {
     "name": "stdout",
     "output_type": "stream",
     "text": [
      "Train F1: 0.33495664408543196\n",
      "Eval F1: 0.3454079643553328\n",
      "\n",
      "==== Epoch 13 out of 20 ====\n"
     ]
    },
    {
     "name": "stderr",
     "output_type": "stream",
     "text": [
      "Training loop: 100%|██████████| 132/132 [00:09<00:00, 13.66it/s]\n",
      "Evaluating loop: 100%|██████████| 57/57 [00:00<00:00, 91.35it/s]\n"
     ]
    },
    {
     "name": "stdout",
     "output_type": "stream",
     "text": [
      "Train F1: 0.3423952730770913\n",
      "Eval F1: 0.33387705536828344\n",
      "\n",
      "==== Epoch 14 out of 20 ====\n"
     ]
    },
    {
     "name": "stderr",
     "output_type": "stream",
     "text": [
      "Training loop: 100%|██████████| 132/132 [00:09<00:00, 13.69it/s]\n",
      "Evaluating loop: 100%|██████████| 57/57 [00:00<00:00, 90.84it/s]\n"
     ]
    },
    {
     "name": "stdout",
     "output_type": "stream",
     "text": [
      "Train F1: 0.34802808022504994\n",
      "Eval F1: 0.35937617613056205\n",
      "\n",
      "==== Epoch 15 out of 20 ====\n"
     ]
    },
    {
     "name": "stderr",
     "output_type": "stream",
     "text": [
      "Training loop: 100%|██████████| 132/132 [00:09<00:00, 13.70it/s]\n",
      "Evaluating loop: 100%|██████████| 57/57 [00:00<00:00, 90.64it/s]\n"
     ]
    },
    {
     "name": "stdout",
     "output_type": "stream",
     "text": [
      "Train F1: 0.3458022850365923\n",
      "Eval F1: 0.3747466941765188\n",
      "\n",
      "==== Epoch 16 out of 20 ====\n"
     ]
    },
    {
     "name": "stderr",
     "output_type": "stream",
     "text": [
      "Training loop: 100%|██████████| 132/132 [00:09<00:00, 13.69it/s]\n",
      "Evaluating loop: 100%|██████████| 57/57 [00:00<00:00, 91.66it/s]\n"
     ]
    },
    {
     "name": "stdout",
     "output_type": "stream",
     "text": [
      "Train F1: 0.3565292080254201\n",
      "Eval F1: 0.3842119608786275\n",
      "\n",
      "==== Epoch 17 out of 20 ====\n"
     ]
    },
    {
     "name": "stderr",
     "output_type": "stream",
     "text": [
      "Training loop: 100%|██████████| 132/132 [00:09<00:00, 13.70it/s]\n",
      "Evaluating loop: 100%|██████████| 57/57 [00:00<00:00, 94.72it/s]\n"
     ]
    },
    {
     "name": "stdout",
     "output_type": "stream",
     "text": [
      "Train F1: 0.360635495456924\n",
      "Eval F1: 0.40286249534369833\n",
      "\n",
      "==== Epoch 18 out of 20 ====\n"
     ]
    },
    {
     "name": "stderr",
     "output_type": "stream",
     "text": [
      "Training loop: 100%|██████████| 132/132 [00:09<00:00, 13.66it/s]\n",
      "Evaluating loop: 100%|██████████| 57/57 [00:00<00:00, 90.64it/s]\n"
     ]
    },
    {
     "name": "stdout",
     "output_type": "stream",
     "text": [
      "Train F1: 0.386904197093591\n",
      "Eval F1: 0.39037813388690584\n",
      "\n",
      "==== Epoch 19 out of 20 ====\n"
     ]
    },
    {
     "name": "stderr",
     "output_type": "stream",
     "text": [
      "Training loop: 100%|██████████| 132/132 [00:09<00:00, 13.66it/s]\n",
      "Evaluating loop: 100%|██████████| 57/57 [00:00<00:00, 99.12it/s] \n"
     ]
    },
    {
     "name": "stdout",
     "output_type": "stream",
     "text": [
      "Train F1: 0.37262078690108996\n",
      "Eval F1: 0.4055525598508055\n",
      "\n",
      "==== Epoch 20 out of 20 ====\n"
     ]
    },
    {
     "name": "stderr",
     "output_type": "stream",
     "text": [
      "Training loop: 100%|██████████| 132/132 [00:09<00:00, 13.68it/s]\n",
      "Evaluating loop: 100%|██████████| 57/57 [00:00<00:00, 93.48it/s] \n"
     ]
    },
    {
     "name": "stdout",
     "output_type": "stream",
     "text": [
      "Train F1: 0.40402298599268294\n",
      "Eval F1: 0.41354706209969366\n",
      "\n",
      "\n"
     ]
    },
    {
     "name": "stderr",
     "output_type": "stream",
     "text": [
      "Computing final metrics...: 100%|██████████| 57/57 [00:00<00:00, 149.03it/s]"
     ]
    },
    {
     "name": "stdout",
     "output_type": "stream",
     "text": [
      "                                          precision    recall  f1-score   support\n",
      "\n",
      "                             КОМПЕНСАЦИЯ       0.62      0.84      0.71       128\n",
      "                      ПРОБЛЕМЫ С ЛИМИТОМ       0.00      0.00      0.00        37\n",
      "                      Платформа СберДруг       0.55      0.52      0.53        93\n",
      "                          Положительный        0.00      0.00      0.00         7\n",
      "Процесс неизвестен, не дали использовать       0.00      0.00      0.00        30\n",
      "                            СОГЛАСОВАНИЕ       0.00      0.00      0.00        33\n",
      "                 ТАКСИ, ВОДИТЕЛИ, МАШИНЫ       0.54      0.82      0.65       125\n",
      "\n",
      "                                accuracy                           0.57       453\n",
      "                               macro avg       0.24      0.31      0.27       453\n",
      "                            weighted avg       0.44      0.57      0.49       453\n",
      "\n"
     ]
    },
    {
     "name": "stderr",
     "output_type": "stream",
     "text": [
      "\n",
      "/home/user/conda/lib/python3.7/site-packages/sklearn/metrics/_classification.py:1318: UndefinedMetricWarning: Precision and F-score are ill-defined and being set to 0.0 in labels with no predicted samples. Use `zero_division` parameter to control this behavior.\n",
      "  _warn_prf(average, modifier, msg_start, len(result))\n",
      "/home/user/conda/lib/python3.7/site-packages/sklearn/metrics/_classification.py:1318: UndefinedMetricWarning: Precision and F-score are ill-defined and being set to 0.0 in labels with no predicted samples. Use `zero_division` parameter to control this behavior.\n",
      "  _warn_prf(average, modifier, msg_start, len(result))\n",
      "/home/user/conda/lib/python3.7/site-packages/sklearn/metrics/_classification.py:1318: UndefinedMetricWarning: Precision and F-score are ill-defined and being set to 0.0 in labels with no predicted samples. Use `zero_division` parameter to control this behavior.\n",
      "  _warn_prf(average, modifier, msg_start, len(result))\n"
     ]
    }
   ],
   "source": [
    "model = train_evaluate(\n",
    "    model=model,\n",
    "    training_generator=training_generator,\n",
    "    valid_generator=valid_generator,\n",
    "    criterion=criterion,\n",
    "    optimizer=optimizer,\n",
    "    num_epocs=config['training']['num_epochs'],\n",
    "    average=config['training']['average_f1']\n",
    ")"
   ]
  },
  {
   "cell_type": "code",
   "execution_count": 14,
   "id": "2073b212",
   "metadata": {},
   "outputs": [
    {
     "name": "stderr",
     "output_type": "stream",
     "text": [
      "Computing final metrics...: 100%|██████████| 57/57 [00:00<00:00, 150.58it/s]"
     ]
    },
    {
     "name": "stdout",
     "output_type": "stream",
     "text": [
      "                                          precision    recall  f1-score   support\n",
      "\n",
      "                             КОМПЕНСАЦИЯ       0.62      0.84      0.71       128\n",
      "                      ПРОБЛЕМЫ С ЛИМИТОМ       0.00      0.00      0.00        37\n",
      "                      Платформа СберДруг       0.55      0.52      0.53        93\n",
      "                          Положительный        0.00      0.00      0.00         7\n",
      "Процесс неизвестен, не дали использовать       0.00      0.00      0.00        30\n",
      "                            СОГЛАСОВАНИЕ       0.00      0.00      0.00        33\n",
      "                 ТАКСИ, ВОДИТЕЛИ, МАШИНЫ       0.54      0.82      0.65       125\n",
      "\n",
      "                                accuracy                           0.57       453\n",
      "                               macro avg       0.24      0.31      0.27       453\n",
      "                            weighted avg       0.44      0.57      0.49       453\n",
      "\n"
     ]
    },
    {
     "name": "stderr",
     "output_type": "stream",
     "text": [
      "\n",
      "/home/user/conda/lib/python3.7/site-packages/sklearn/metrics/_classification.py:1318: UndefinedMetricWarning: Precision and F-score are ill-defined and being set to 0.0 in labels with no predicted samples. Use `zero_division` parameter to control this behavior.\n",
      "  _warn_prf(average, modifier, msg_start, len(result))\n",
      "/home/user/conda/lib/python3.7/site-packages/sklearn/metrics/_classification.py:1318: UndefinedMetricWarning: Precision and F-score are ill-defined and being set to 0.0 in labels with no predicted samples. Use `zero_division` parameter to control this behavior.\n",
      "  _warn_prf(average, modifier, msg_start, len(result))\n",
      "/home/user/conda/lib/python3.7/site-packages/sklearn/metrics/_classification.py:1318: UndefinedMetricWarning: Precision and F-score are ill-defined and being set to 0.0 in labels with no predicted samples. Use `zero_division` parameter to control this behavior.\n",
      "  _warn_prf(average, modifier, msg_start, len(result))\n"
     ]
    }
   ],
   "source": [
    "predict_metrics(model=model, iterator=valid_generator)"
   ]
  },
  {
   "cell_type": "code",
   "execution_count": 20,
   "id": "9fa1ced3",
   "metadata": {},
   "outputs": [],
   "source": [
    "torch.save(model.state_dict(), os.path.join(config['training']['output_dir'], \"model\"))\n",
    "with open(os.path.join(config['training']['output_dir'], 'label_mapper.json'), mode='w', encoding='utf-8') as f:\n",
    "        json.dump(model.mapper, f, indent=4, ensure_ascii=False)"
   ]
  },
  {
   "cell_type": "code",
   "execution_count": null,
   "id": "c14f6190",
   "metadata": {},
   "outputs": [],
   "source": []
  }
 ],
 "metadata": {
  "kernelspec": {
   "display_name": "Python 3 (ipykernel)",
   "language": "python",
   "name": "python3"
  },
  "language_info": {
   "codemirror_mode": {
    "name": "ipython",
    "version": 3
   },
   "file_extension": ".py",
   "mimetype": "text/x-python",
   "name": "python",
   "nbconvert_exporter": "python",
   "pygments_lexer": "ipython3",
   "version": "3.7.12"
  }
 },
 "nbformat": 4,
 "nbformat_minor": 5
}
